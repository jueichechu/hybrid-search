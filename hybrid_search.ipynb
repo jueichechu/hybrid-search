{
 "cells": [
  {
   "cell_type": "markdown",
   "id": "d04c1ea0",
   "metadata": {},
   "source": [
    "# Hybrid Search: BM25 & FAISS (OpenAI Embeddings)\n",
    "\n",
    "This project builds a hybrid retriever combining:\n",
    "1) BM25 algorithm (traditional keyword-based matching and searching, sparse retriever)\n",
    "2) FAISS with OpenAI embeddings (semantic vector-based similarity search, dense retriever)\n",
    "\n",
    "### Advantages of Hybrid Search\n",
    "Traditional search methods like BM25 excel at exact keyword matching, providing relevance scores based on term frequency and document length, making them perfect for finding documents containing specific phrases. However, they struggle with capturing semantic meaning — if a document discusses the same topic using different words, it won’t match. Vector embedding-based search, on the other hand, understands context and semantics but sometimes misses exact matches.\n",
    "\n",
    "By integrating both approaches, we get the best of both worlds: precise keyword matching and vector semantic understanding. This creates a more robust search system that can handle diverse queries effectively."
   ]
  },
  {
   "cell_type": "markdown",
   "id": "18568c0d",
   "metadata": {},
   "source": [
    "### Core Concepts\n",
    "#### 1. BM25 (Best Match 25) - Keyword Search\n",
    "- Spare vector approach; Statistical ranking algorithm for text retrieval\n",
    "- Full-text search excels at keyword matching and relevance scoring\n",
    "- Scores documents based on term frequency (how often query terms appear) and inverse document frequency (how common those terms are across al documents), effectively ranking the documents by their similarity to the search query\n",
    "- Particularly strong for exact phrase matching\n",
    "\n",
    "#### 2. Vector Search (FAISS)\n",
    "- Converts text into dense vectors in high-dimensional space\n",
    "- Captures semantic meaning beyond exact keywords\n",
    "- Enables similarity-based searching\n",
    "- Excels in identifying information that is close in meaning to the search query, even when there are no direct keyword matches\n",
    "\n",
    "#### 3. Hybrid Approach\n",
    "- Combines results and strengths from both search methods\n",
    "- Uses weighted ensemble to balance precision and recall\n",
    "- Allows flexible tuning of search behavior"
   ]
  },
  {
   "cell_type": "markdown",
   "id": "b1999a73",
   "metadata": {},
   "source": [
    "### System Architecture"
   ]
  },
  {
   "cell_type": "markdown",
   "id": "391d9911",
   "metadata": {},
   "source": [
    "Both search paths operate **simultaneously** on the same query:\n",
    "- The top path uses BM25 to find exact matches in the text documents\n",
    "- The below path converts text to vectors and performs semantic similarity search\n",
    "- Results from both paths are combined using weighted averaging, where BM25 contributes 40% and FAISS contributes 60% to the final score\n"
   ]
  },
  {
   "cell_type": "markdown",
   "id": "ac6beb6f",
   "metadata": {},
   "source": [
    "#### Create virtual environment\n",
    "In your command line/terminal, go to project directory, run:\n",
    "\n",
    "``` python -m venv hybrid```\n",
    "\n",
    "This will create a directory with necessary files to run an isolated Python environment. Then run:\n",
    "\n",
    "`source hybrid/bin/activate`\n",
    "\n",
    "Once activated, use pip to install packages inside the virtual environment:\n",
    "\n",
    "```pip install <package-name>```"
   ]
  },
  {
   "cell_type": "markdown",
   "id": "666afe7c",
   "metadata": {},
   "source": [
    "#### Requirements\n",
    "Install these libraries if you haven't already:\n",
    "\n",
    "- ```pip install openai```\n",
    "- ```pip install langchain```\n",
    "- `pip install -U langchain-community`\n",
    "- `pip install -U langchain-openai`\n",
    "- `pip install rank_bm25`\n",
    "- `pip install faiss-cpu` (depending on Python version)\n",
    "- `pip install psycopg2-binary`  (popular PostgreSQL database adapter)"
   ]
  },
  {
   "cell_type": "code",
   "execution_count": 41,
   "id": "6b569f8f",
   "metadata": {},
   "outputs": [
    {
     "name": "stdout",
     "output_type": "stream",
     "text": [
      "1.11.0\n"
     ]
    }
   ],
   "source": [
    "import faiss\n",
    "print(faiss.__version__)   # should show a version, no ImportError"
   ]
  },
  {
   "cell_type": "markdown",
   "id": "aaf6c518",
   "metadata": {},
   "source": [
    "#### Steps to use `.env` for `OPEN_API_KEY`\n",
    "1. Install `python-dotenv`\n",
    "- `pip install python-dotenv`\n",
    "\n",
    "2. Create a `.env` file in your project folder (same directory as your script), and within the file type:\n",
    "`OPENAI_API_KEY=sk-xxxxxxxxxxxxxxxxxxxxxxxxxxxxxxxxxxxxxxxx`\n",
    "\n",
    "Replace `sk-xxx...` with your actual OpenAI API key.\n",
    "\n",
    "3. Update your Python script to load the .env file:"
   ]
  },
  {
   "cell_type": "code",
   "execution_count": 42,
   "id": "34ea7467",
   "metadata": {},
   "outputs": [],
   "source": [
    "import os\n",
    "from dotenv import load_dotenv\n",
    "\n",
    "# Load environment variables from .env file (e.g. you OpenAI API key)\n",
    "load_dotenv()\n",
    "\n",
    "# Get the OpenAI API key from environment variables\n",
    "api_key = os.getenv(\"OPENAI_API_KEY\")\n",
    "if api_key is None:\n",
    "    raise ValueError(\"Missing OPENAI_API_KEY in environment\")"
   ]
  },
  {
   "cell_type": "code",
   "execution_count": null,
   "id": "da8cac66",
   "metadata": {},
   "outputs": [],
   "source": [
    "# Import retrievers and document schema\n",
    "from langchain.retrievers import BM25Retriever, EnsembleRetriever\n",
    "# BM25Retriever: (without Elasticsearch) pure keyword-based (lexical) retriever based on the Okapi BM25 algorithm  \n",
    "#     A ranking function used in information retrieval systems to estimate the relevance of documents to a given search query\n",
    "#     BM25 is a probabilistic model that considers term frequency, document length, and avg document length. (builds upon TF-IDF)\n",
    "# EnsembleRetriever: combines multiple retrievers with a weighted voting scheme  \n",
    "\n",
    "from langchain.schema import Document # Class for storing page content (string) and associated metadata (optional)\n",
    "\n",
    "# Import OpenAI embedding model and FAISS vector store\n",
    "from langchain_openai import OpenAIEmbeddings # OpenAIEmbeddings: LangChain wrapper over OpenAI’s embeddings API  \n",
    "from langchain.vectorstores import FAISS # FAISS: in-memory vector index from Facebook AI Research for fast similarity search  \n",
    "# from langchain.vectorstores import Chroma # another vector store\n",
    "\n",
    "# Define a function to create a hybrid retriever\n",
    "def hybrid_retriever(texts: list, bm25_top_k: int = 2, vector_top_k: int = 2, weights: list = [0.4, 0.6]):\n",
    "    \"\"\"\n",
    "    Create a hybrid retriever combining BM25 and OpenAI Embeddings.\n",
    "    Args:\n",
    "        texts (list): List of text documents.\n",
    "        bm25_top_k (int): Number of top results to fetch from BM25.\n",
    "        vector_top_k (int): Number of top results fetch from vector (FAISS) similarity search.\n",
    "        weights (list): Weights for ensemble retriever [BM25 weight, vector weight].\n",
    "    Returns:\n",
    "        EnsembleRetriever: A hybrid retriever combining BM25 and vector search.\n",
    "    \"\"\"\n",
    "\n",
    "    # Step 1: Create LangChain Document objects from raw texts \n",
    "    documents = [Document(page_content=text) for text in texts] # list of Document objects, each containing page content (text) and optional metadata\n",
    "\n",
    "    # Step 2: Create BM25 retriever from a list of documents (created in step 1)\n",
    "    # bm25_retriever = BM25Retriever.from_texts(texts, k=bm25_top_k) # accepts a list of strings(texts only, no metadata) \n",
    "    bm25_retriever = BM25Retriever.from_documents(\n",
    "        documents, # List of documents to use for retrieval\n",
    "        k = bm25_top_k, # Set number of top results to retrieve (Number of documents to return)\n",
    "        # preprocess_func = word_tokenize # custom tokenizer function (e.g. NLTK, spaCy)\n",
    "    )\n",
    "\n",
    "    # Step 3: Create Vector (FAISS) retriever/vector_store using OpenAI embeddings\n",
    "    # set the embeddings function to OpenAI's text embedding. Other Langchain embedding models: https://js.langchain.com/docs/integrations/text_embedding/\n",
    "    # An embedding is a vector (list) of floating point numbers. The distance between two vectors measures their relatedness. \n",
    "    # Small distances suggest high relatedness and large distances suggest low relatedness.\n",
    "    embed_model = OpenAIEmbeddings(\n",
    "        openai_api_key=api_key,\n",
    "        model=\"text-embedding-3-small\" # or \"text-similarity-ada-002\"\n",
    "        # Optional: specify number of dimensions the resulting output embeddings should have\n",
    "        # By default, the length of the embedding vector is 1536 for text-embedding-3-small or 3072 for text-embedding-3-large\n",
    "        # dimensions=256 # To reduce the embedding's dimensions without losing its concept-representing properties, pass in the dimensions parameter\n",
    "    ) \n",
    "\n",
    "    # Facebook AI Similarity Search (FAISS) is a library for efficient similarity search and clustering of dense vectors\n",
    "    # Return VectorStore initialized from documents and embeddings\n",
    "    vector_store = FAISS.from_documents(documents, embed_model) # Store vectors in FAISS, documents = list of Documents to add to the vectorstore\n",
    "    # Wrap FAISS vector store as a LangChain retriever\n",
    "    vector_retriever = vector_store.as_retriever(search_kwargs={\"k\": vector_top_k}) # Basic top-k similarity search\n",
    "\n",
    "    # Step 4: Combine BM25 and vector retrievers using EnsembleRetriever\n",
    "    ensemble_retriever = EnsembleRetriever(\n",
    "        retrievers=[bm25_retriever, vector_retriever], # a list of retrievers to ensemble\n",
    "        weights=weights # a list of weights corresponding to the retrievers. Defaults to equal weighting for all retrievers.\n",
    "    )\n",
    "\n",
    "    return ensemble_retriever # returns the hybrid retriever"
   ]
  },
  {
   "cell_type": "code",
   "execution_count": 44,
   "id": "864271ec",
   "metadata": {},
   "outputs": [],
   "source": [
    "# Sample product list with pricing details\n",
    "texts = [\n",
    "    \"The Apple iPhone 14 features a 6.1-inch display and advanced dual-camera system. Price: $799.\",\n",
    "    \"The Samsung Galaxy S23 Ultra comes with a 200MP camera and a 5000mAh battery. Price: $1,199.\",\n",
    "    \"The Sony WH-1000XM5 headphones offer industry-leading noise cancellation. Price: $399.\",\n",
    "    \"Our organic avocados are sourced from sustainable farms in California. Price: $2.49 each.\",\n",
    "    \"The Dyson V15 Detect is a cordless vacuum cleaner with laser dust detection. Price: $749.\",\n",
    "    \"Lavazza Super Crema is a medium roast coffee with notes of honey and almonds. Price: $23.99 for a 2.2 lb bag.\",\n",
    "    \"The Instant Pot Duo 7-in-1 is a multifunctional pressure cooker for fast meals. Price: $99.95.\",\n",
    "    \"The Logitech MX Master 3S is an ergonomic wireless mouse for productivity. Price: $99.99.\",\n",
    "    \"Philips Hue smart bulbs allow color customization and voice control via Alexa. Price: $49.99 for a 2-pack.\",\n",
    "    \"The Lenovo ThinkPad X1 Carbon Gen 11 is a lightweight business laptop. Price: $1,649.\",\n",
    "    \"Our bamboo cutting boards are durable, eco-friendly, and knife-safe. Price: $29.95 for a 3-piece set.\",\n",
    "    \"Tide Pods 3-in-1 offer detergent, stain remover, and color protector in one capsule. Price: $21.99 for 81 pods.\"\n",
    "]\n",
    "\n",
    "# Create the hybrid retriever with equal weights\n",
    "# BM25 returns top `bm25_top_k` documents by keyword match and FAISS (vector) returns top `vector_top_k` results by semantic similarity\n",
    "# So, we can get up to `bm25_top_k` + `vector_top_k` results in total, but if there are overlaps/duplicate results\n",
    "# then LangChain combines these using weighted score fusion and deduplicates based on document ID or content\n",
    "# Result Merging: Implement deduplication and sorting mechanisms using score fusion algorithms\n",
    "# Performance Optimization: Enhance efficiency through parallel retrieval and reduce redundant calculations with caching mechanisms.\n",
    "retriever = hybrid_retriever(\n",
    "    texts=texts,\n",
    "    bm25_top_k=2,\n",
    "    vector_top_k=2,\n",
    "    weights=[0.5, 0.5]  # Equal weight to both BM25 and vector search\n",
    ")\n",
    "\n",
    "# Sample query to search the hybrid retriever\n",
    "query = \"What's the price of the Samsung phone?\"\n",
    "\n",
    "# Fetch relevant documents\n",
    "results = retriever.invoke(query) # Invoke the retriever to get relevant documents, returns a List of relevant documents"
   ]
  },
  {
   "cell_type": "code",
   "execution_count": 45,
   "id": "a0c1fd4c",
   "metadata": {},
   "outputs": [
    {
     "data": {
      "text/plain": [
       "[Document(metadata={}, page_content='The Samsung Galaxy S23 Ultra comes with a 200MP camera and a 5000mAh battery. Price: $1,199.'),\n",
       " Document(metadata={}, page_content='Lavazza Super Crema is a medium roast coffee with notes of honey and almonds. Price: $23.99 for a 2.2 lb bag.'),\n",
       " Document(id='7e62fe76-d43f-4ac0-940c-df94b4cb1814', metadata={}, page_content='The Apple iPhone 14 features a 6.1-inch display and advanced dual-camera system. Price: $799.')]"
      ]
     },
     "execution_count": 45,
     "metadata": {},
     "output_type": "execute_result"
    }
   ],
   "source": [
    "results # results is a list of Document objects containing the retrieved results"
   ]
  },
  {
   "cell_type": "code",
   "execution_count": 46,
   "id": "88b3aff9",
   "metadata": {},
   "outputs": [
    {
     "name": "stdout",
     "output_type": "stream",
     "text": [
      "Result 1: The Samsung Galaxy S23 Ultra comes with a 200MP camera and a 5000mAh battery. Price: $1,199.\n",
      "Result 2: Lavazza Super Crema is a medium roast coffee with notes of honey and almonds. Price: $23.99 for a 2.2 lb bag.\n",
      "Result 3: The Apple iPhone 14 features a 6.1-inch display and advanced dual-camera system. Price: $799.\n"
     ]
    }
   ],
   "source": [
    "for idx, doc in enumerate(results, start=1): # idx starts at 1\n",
    "    print(f\"Result {idx}: {doc.page_content}\")"
   ]
  }
 ],
 "metadata": {
  "kernelspec": {
   "display_name": "hybrid",
   "language": "python",
   "name": "python3"
  },
  "language_info": {
   "codemirror_mode": {
    "name": "ipython",
    "version": 3
   },
   "file_extension": ".py",
   "mimetype": "text/x-python",
   "name": "python",
   "nbconvert_exporter": "python",
   "pygments_lexer": "ipython3",
   "version": "3.10.13"
  }
 },
 "nbformat": 4,
 "nbformat_minor": 5
}
